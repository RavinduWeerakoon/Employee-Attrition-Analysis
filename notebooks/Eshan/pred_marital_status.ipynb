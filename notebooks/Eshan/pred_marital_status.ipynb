{
 "cells": [
  {
   "cell_type": "code",
   "execution_count": 73,
   "metadata": {},
   "outputs": [],
   "source": [
    "# ! pip install catboost"
   ]
  },
  {
   "cell_type": "code",
   "execution_count": 74,
   "metadata": {},
   "outputs": [],
   "source": [
    "import pandas as pd\n",
    "from catboost import CatBoostClassifier\n",
    "from sklearn.model_selection import train_test_split\n",
    "from sklearn.metrics import accuracy_score, classification_report\n",
    "\n",
    "\n"
   ]
  },
  {
   "cell_type": "code",
   "execution_count": 75,
   "metadata": {},
   "outputs": [],
   "source": [
    "# Load the dataset\n",
    "data = pd.read_csv('../Dataset/employees.csv')  # Replace 'your_dataset.csv' with your actual dataset file path\n",
    "\n",
    "# Drop unnecessary columns\n",
    "data.drop(['Employee_No', 'Employee_Code', 'Name','Date_Resigned','Date_Joined','Inactive_Date'], axis=1, inplace=True)\n",
    "\n",
    "# Drop rows with missing values in Marital_Status during training\n",
    "data_train = data.dropna(subset=['Marital_Status'])"
   ]
  },
  {
   "cell_type": "code",
   "execution_count": 76,
   "metadata": {},
   "outputs": [],
   "source": [
    "# get a copy from data\n",
    "data_copy = data.copy()"
   ]
  },
  {
   "cell_type": "code",
   "execution_count": 77,
   "metadata": {},
   "outputs": [
    {
     "data": {
      "text/plain": [
       "(997, 13)"
      ]
     },
     "execution_count": 77,
     "metadata": {},
     "output_type": "execute_result"
    }
   ],
   "source": [
    "data.shape"
   ]
  },
  {
   "cell_type": "code",
   "execution_count": 78,
   "metadata": {},
   "outputs": [
    {
     "data": {
      "text/html": [
       "<div>\n",
       "<style scoped>\n",
       "    .dataframe tbody tr th:only-of-type {\n",
       "        vertical-align: middle;\n",
       "    }\n",
       "\n",
       "    .dataframe tbody tr th {\n",
       "        vertical-align: top;\n",
       "    }\n",
       "\n",
       "    .dataframe thead th {\n",
       "        text-align: right;\n",
       "    }\n",
       "</style>\n",
       "<table border=\"1\" class=\"dataframe\">\n",
       "  <thead>\n",
       "    <tr style=\"text-align: right;\">\n",
       "      <th></th>\n",
       "      <th>Title</th>\n",
       "      <th>Gender</th>\n",
       "      <th>Religion_ID</th>\n",
       "      <th>Marital_Status</th>\n",
       "      <th>Designation_ID</th>\n",
       "      <th>Status</th>\n",
       "      <th>Reporting_emp_1</th>\n",
       "      <th>Reporting_emp_2</th>\n",
       "      <th>Employment_Category</th>\n",
       "      <th>Employment_Type</th>\n",
       "      <th>Religion</th>\n",
       "      <th>Designation</th>\n",
       "      <th>Year_of_Birth</th>\n",
       "    </tr>\n",
       "  </thead>\n",
       "  <tbody>\n",
       "    <tr>\n",
       "      <th>0</th>\n",
       "      <td>Mr</td>\n",
       "      <td>Male</td>\n",
       "      <td>1</td>\n",
       "      <td>Married</td>\n",
       "      <td>24</td>\n",
       "      <td>Active</td>\n",
       "      <td>\\N</td>\n",
       "      <td>\\N</td>\n",
       "      <td>Staff</td>\n",
       "      <td>Permanant</td>\n",
       "      <td>Buddhist</td>\n",
       "      <td>Driver</td>\n",
       "      <td>1965</td>\n",
       "    </tr>\n",
       "    <tr>\n",
       "      <th>1</th>\n",
       "      <td>Mr</td>\n",
       "      <td>Male</td>\n",
       "      <td>1</td>\n",
       "      <td>Married</td>\n",
       "      <td>24</td>\n",
       "      <td>Active</td>\n",
       "      <td>\\N</td>\n",
       "      <td>\\N</td>\n",
       "      <td>Staff</td>\n",
       "      <td>Permanant</td>\n",
       "      <td>Buddhist</td>\n",
       "      <td>Driver</td>\n",
       "      <td>1973</td>\n",
       "    </tr>\n",
       "    <tr>\n",
       "      <th>2</th>\n",
       "      <td>Mr</td>\n",
       "      <td>Male</td>\n",
       "      <td>1</td>\n",
       "      <td>Married</td>\n",
       "      <td>23</td>\n",
       "      <td>Inactive</td>\n",
       "      <td>\\N</td>\n",
       "      <td>\\N</td>\n",
       "      <td>Staff</td>\n",
       "      <td>Permanant</td>\n",
       "      <td>Buddhist</td>\n",
       "      <td>Account Clerk</td>\n",
       "      <td>1974</td>\n",
       "    </tr>\n",
       "    <tr>\n",
       "      <th>3</th>\n",
       "      <td>Ms</td>\n",
       "      <td>Female</td>\n",
       "      <td>4</td>\n",
       "      <td>Married</td>\n",
       "      <td>40</td>\n",
       "      <td>Inactive</td>\n",
       "      <td>\\N</td>\n",
       "      <td>\\N</td>\n",
       "      <td>Staff</td>\n",
       "      <td>Permanant</td>\n",
       "      <td>Catholic</td>\n",
       "      <td>Purchasing Officer</td>\n",
       "      <td>1974</td>\n",
       "    </tr>\n",
       "    <tr>\n",
       "      <th>4</th>\n",
       "      <td>Mr</td>\n",
       "      <td>Male</td>\n",
       "      <td>1</td>\n",
       "      <td>Married</td>\n",
       "      <td>7</td>\n",
       "      <td>Active</td>\n",
       "      <td>\\N</td>\n",
       "      <td>\\N</td>\n",
       "      <td>Staff</td>\n",
       "      <td>Permanant</td>\n",
       "      <td>Buddhist</td>\n",
       "      <td>Store Keeper</td>\n",
       "      <td>1980</td>\n",
       "    </tr>\n",
       "  </tbody>\n",
       "</table>\n",
       "</div>"
      ],
      "text/plain": [
       "  Title  Gender  Religion_ID Marital_Status  Designation_ID    Status  \\\n",
       "0    Mr    Male            1        Married              24    Active   \n",
       "1    Mr    Male            1        Married              24    Active   \n",
       "2    Mr    Male            1        Married              23  Inactive   \n",
       "3    Ms  Female            4        Married              40  Inactive   \n",
       "4    Mr    Male            1        Married               7    Active   \n",
       "\n",
       "  Reporting_emp_1 Reporting_emp_2 Employment_Category Employment_Type  \\\n",
       "0              \\N              \\N               Staff       Permanant   \n",
       "1              \\N              \\N               Staff       Permanant   \n",
       "2              \\N              \\N               Staff       Permanant   \n",
       "3              \\N              \\N               Staff       Permanant   \n",
       "4              \\N              \\N               Staff       Permanant   \n",
       "\n",
       "   Religion         Designation Year_of_Birth  \n",
       "0  Buddhist              Driver          1965  \n",
       "1  Buddhist              Driver          1973  \n",
       "2  Buddhist       Account Clerk          1974  \n",
       "3  Catholic  Purchasing Officer          1974  \n",
       "4  Buddhist        Store Keeper          1980  "
      ]
     },
     "execution_count": 78,
     "metadata": {},
     "output_type": "execute_result"
    }
   ],
   "source": [
    "data_train.head()"
   ]
  },
  {
   "cell_type": "code",
   "execution_count": 79,
   "metadata": {},
   "outputs": [
    {
     "data": {
      "text/plain": [
       "Title                  0\n",
       "Gender                 0\n",
       "Religion_ID            0\n",
       "Marital_Status         0\n",
       "Designation_ID         0\n",
       "Status                 0\n",
       "Reporting_emp_1        0\n",
       "Reporting_emp_2        0\n",
       "Employment_Category    0\n",
       "Employment_Type        0\n",
       "Religion               0\n",
       "Designation            0\n",
       "Year_of_Birth          0\n",
       "dtype: int64"
      ]
     },
     "execution_count": 79,
     "metadata": {},
     "output_type": "execute_result"
    }
   ],
   "source": [
    "# get missing value count in data columns\n",
    "data_train.isnull().sum()"
   ]
  },
  {
   "cell_type": "code",
   "execution_count": 80,
   "metadata": {},
   "outputs": [],
   "source": [
    "# Separate features (X) and target variable (y)\n",
    "X = data_train.drop('Marital_Status', axis=1)\n",
    "y = data_train['Marital_Status']\n"
   ]
  },
  {
   "cell_type": "code",
   "execution_count": 81,
   "metadata": {},
   "outputs": [],
   "source": [
    "# Split the data into training and testing sets\n",
    "X_train, X_test, y_train, y_test = train_test_split(X, y, test_size=0.2, random_state=42)"
   ]
  },
  {
   "cell_type": "code",
   "execution_count": 82,
   "metadata": {},
   "outputs": [
    {
     "data": {
      "text/plain": [
       "((744, 12), (186, 12), (744,), (186,))"
      ]
     },
     "execution_count": 82,
     "metadata": {},
     "output_type": "execute_result"
    }
   ],
   "source": [
    "X_train.shape, X_test.shape, y_train.shape, y_test.shape"
   ]
  },
  {
   "cell_type": "code",
   "execution_count": 83,
   "metadata": {},
   "outputs": [],
   "source": [
    "# Initialize CatBoost Classifier\n",
    "model = CatBoostClassifier(iterations=100, depth=6, learning_rate=0.1, loss_function='Logloss')"
   ]
  },
  {
   "cell_type": "code",
   "execution_count": 84,
   "metadata": {},
   "outputs": [
    {
     "name": "stdout",
     "output_type": "stream",
     "text": [
      "0:\tlearn: 0.6596339\ttotal: 10.4ms\tremaining: 1.02s\n",
      "1:\tlearn: 0.6333796\ttotal: 35.1ms\tremaining: 1.72s\n",
      "2:\tlearn: 0.6097135\ttotal: 66ms\tremaining: 2.13s\n",
      "3:\tlearn: 0.5897033\ttotal: 93.9ms\tremaining: 2.25s\n",
      "4:\tlearn: 0.5728385\ttotal: 104ms\tremaining: 1.98s\n",
      "5:\tlearn: 0.5570585\ttotal: 130ms\tremaining: 2.03s\n",
      "6:\tlearn: 0.5431224\ttotal: 155ms\tremaining: 2.06s\n",
      "7:\tlearn: 0.5298011\ttotal: 185ms\tremaining: 2.13s\n",
      "8:\tlearn: 0.5206983\ttotal: 212ms\tremaining: 2.14s\n",
      "9:\tlearn: 0.5123542\ttotal: 220ms\tremaining: 1.98s\n",
      "10:\tlearn: 0.5052597\ttotal: 249ms\tremaining: 2.01s\n",
      "11:\tlearn: 0.4969067\ttotal: 274ms\tremaining: 2.01s\n",
      "12:\tlearn: 0.4908292\ttotal: 300ms\tremaining: 2s\n",
      "13:\tlearn: 0.4860390\ttotal: 326ms\tremaining: 2s\n",
      "14:\tlearn: 0.4793273\ttotal: 348ms\tremaining: 1.97s\n",
      "15:\tlearn: 0.4756839\ttotal: 360ms\tremaining: 1.89s\n",
      "16:\tlearn: 0.4715258\ttotal: 381ms\tremaining: 1.86s\n",
      "17:\tlearn: 0.4680979\ttotal: 417ms\tremaining: 1.9s\n",
      "18:\tlearn: 0.4663680\ttotal: 427ms\tremaining: 1.82s\n",
      "19:\tlearn: 0.4617820\ttotal: 449ms\tremaining: 1.8s\n",
      "20:\tlearn: 0.4581879\ttotal: 472ms\tremaining: 1.77s\n",
      "21:\tlearn: 0.4562670\ttotal: 495ms\tremaining: 1.75s\n",
      "22:\tlearn: 0.4538881\ttotal: 519ms\tremaining: 1.74s\n",
      "23:\tlearn: 0.4503963\ttotal: 536ms\tremaining: 1.7s\n",
      "24:\tlearn: 0.4469477\ttotal: 562ms\tremaining: 1.69s\n",
      "25:\tlearn: 0.4453696\ttotal: 574ms\tremaining: 1.63s\n",
      "26:\tlearn: 0.4436909\ttotal: 595ms\tremaining: 1.61s\n",
      "27:\tlearn: 0.4407779\ttotal: 617ms\tremaining: 1.59s\n",
      "28:\tlearn: 0.4391157\ttotal: 659ms\tremaining: 1.61s\n",
      "29:\tlearn: 0.4385919\ttotal: 682ms\tremaining: 1.59s\n",
      "30:\tlearn: 0.4362621\ttotal: 715ms\tremaining: 1.59s\n",
      "31:\tlearn: 0.4356273\ttotal: 739ms\tremaining: 1.57s\n",
      "32:\tlearn: 0.4346374\ttotal: 761ms\tremaining: 1.54s\n",
      "33:\tlearn: 0.4324881\ttotal: 787ms\tremaining: 1.53s\n",
      "34:\tlearn: 0.4318308\ttotal: 811ms\tremaining: 1.51s\n",
      "35:\tlearn: 0.4308827\ttotal: 833ms\tremaining: 1.48s\n",
      "36:\tlearn: 0.4288660\ttotal: 860ms\tremaining: 1.46s\n",
      "37:\tlearn: 0.4283546\ttotal: 882ms\tremaining: 1.44s\n",
      "38:\tlearn: 0.4263602\ttotal: 905ms\tremaining: 1.42s\n",
      "39:\tlearn: 0.4260819\ttotal: 915ms\tremaining: 1.37s\n",
      "40:\tlearn: 0.4256094\ttotal: 937ms\tremaining: 1.35s\n",
      "41:\tlearn: 0.4253182\ttotal: 947ms\tremaining: 1.31s\n",
      "42:\tlearn: 0.4250228\ttotal: 961ms\tremaining: 1.27s\n",
      "43:\tlearn: 0.4239594\ttotal: 982ms\tremaining: 1.25s\n",
      "44:\tlearn: 0.4232769\ttotal: 1s\tremaining: 1.23s\n",
      "45:\tlearn: 0.4227416\ttotal: 1.02s\tremaining: 1.2s\n",
      "46:\tlearn: 0.4225274\ttotal: 1.03s\tremaining: 1.16s\n",
      "47:\tlearn: 0.4216302\ttotal: 1.06s\tremaining: 1.15s\n",
      "48:\tlearn: 0.4209131\ttotal: 1.09s\tremaining: 1.13s\n",
      "49:\tlearn: 0.4201716\ttotal: 1.11s\tremaining: 1.11s\n",
      "50:\tlearn: 0.4197955\ttotal: 1.13s\tremaining: 1.08s\n",
      "51:\tlearn: 0.4197686\ttotal: 1.15s\tremaining: 1.06s\n",
      "52:\tlearn: 0.4196519\ttotal: 1.17s\tremaining: 1.04s\n",
      "53:\tlearn: 0.4194230\ttotal: 1.19s\tremaining: 1.02s\n",
      "54:\tlearn: 0.4188028\ttotal: 1.21s\tremaining: 993ms\n",
      "55:\tlearn: 0.4187551\ttotal: 1.23s\tremaining: 963ms\n",
      "56:\tlearn: 0.4178257\ttotal: 1.25s\tremaining: 941ms\n",
      "57:\tlearn: 0.4153278\ttotal: 1.27s\tremaining: 920ms\n",
      "58:\tlearn: 0.4129530\ttotal: 1.29s\tremaining: 898ms\n",
      "59:\tlearn: 0.4115215\ttotal: 1.31s\tremaining: 876ms\n",
      "60:\tlearn: 0.4103113\ttotal: 1.34s\tremaining: 854ms\n",
      "61:\tlearn: 0.4090516\ttotal: 1.36s\tremaining: 832ms\n",
      "62:\tlearn: 0.4089952\ttotal: 1.38s\tremaining: 809ms\n",
      "63:\tlearn: 0.4088512\ttotal: 1.39s\tremaining: 780ms\n",
      "64:\tlearn: 0.4081003\ttotal: 1.41s\tremaining: 758ms\n",
      "65:\tlearn: 0.4056969\ttotal: 1.43s\tremaining: 736ms\n",
      "66:\tlearn: 0.4043310\ttotal: 1.45s\tremaining: 715ms\n",
      "67:\tlearn: 0.4034317\ttotal: 1.47s\tremaining: 694ms\n",
      "68:\tlearn: 0.4020894\ttotal: 1.5s\tremaining: 673ms\n",
      "69:\tlearn: 0.4008571\ttotal: 1.52s\tremaining: 654ms\n",
      "70:\tlearn: 0.4002297\ttotal: 1.55s\tremaining: 633ms\n",
      "71:\tlearn: 0.3996581\ttotal: 1.57s\tremaining: 611ms\n",
      "72:\tlearn: 0.3980447\ttotal: 1.59s\tremaining: 589ms\n",
      "73:\tlearn: 0.3971898\ttotal: 1.61s\tremaining: 568ms\n",
      "74:\tlearn: 0.3957799\ttotal: 1.64s\tremaining: 546ms\n",
      "75:\tlearn: 0.3941598\ttotal: 1.66s\tremaining: 524ms\n",
      "76:\tlearn: 0.3935926\ttotal: 1.68s\tremaining: 502ms\n",
      "77:\tlearn: 0.3929685\ttotal: 1.73s\tremaining: 487ms\n",
      "78:\tlearn: 0.3915484\ttotal: 1.76s\tremaining: 467ms\n",
      "79:\tlearn: 0.3915286\ttotal: 1.79s\tremaining: 447ms\n",
      "80:\tlearn: 0.3906568\ttotal: 1.81s\tremaining: 425ms\n",
      "81:\tlearn: 0.3897483\ttotal: 1.83s\tremaining: 402ms\n",
      "82:\tlearn: 0.3897069\ttotal: 1.84s\tremaining: 377ms\n",
      "83:\tlearn: 0.3888609\ttotal: 1.86s\tremaining: 355ms\n",
      "84:\tlearn: 0.3879372\ttotal: 1.89s\tremaining: 333ms\n",
      "85:\tlearn: 0.3869728\ttotal: 1.91s\tremaining: 311ms\n",
      "86:\tlearn: 0.3863984\ttotal: 1.93s\tremaining: 289ms\n",
      "87:\tlearn: 0.3862177\ttotal: 1.95s\tremaining: 266ms\n",
      "88:\tlearn: 0.3857879\ttotal: 1.98s\tremaining: 244ms\n",
      "89:\tlearn: 0.3844871\ttotal: 2s\tremaining: 222ms\n",
      "90:\tlearn: 0.3844240\ttotal: 2.02s\tremaining: 200ms\n",
      "91:\tlearn: 0.3842875\ttotal: 2.04s\tremaining: 178ms\n",
      "92:\tlearn: 0.3842250\ttotal: 2.07s\tremaining: 156ms\n",
      "93:\tlearn: 0.3842004\ttotal: 2.09s\tremaining: 133ms\n",
      "94:\tlearn: 0.3839090\ttotal: 2.11s\tremaining: 111ms\n",
      "95:\tlearn: 0.3835626\ttotal: 2.13s\tremaining: 88.8ms\n",
      "96:\tlearn: 0.3831740\ttotal: 2.15s\tremaining: 66.6ms\n",
      "97:\tlearn: 0.3826296\ttotal: 2.17s\tremaining: 44.4ms\n",
      "98:\tlearn: 0.3825128\ttotal: 2.2s\tremaining: 22.2ms\n",
      "99:\tlearn: 0.3816183\ttotal: 2.22s\tremaining: 0us\n"
     ]
    },
    {
     "data": {
      "text/plain": [
       "<catboost.core.CatBoostClassifier at 0x150a1c8a510>"
      ]
     },
     "execution_count": 84,
     "metadata": {},
     "output_type": "execute_result"
    }
   ],
   "source": [
    "# Fit the model\n",
    "model.fit(X_train, y_train, cat_features=list(X_train.select_dtypes(include=['object']).columns))"
   ]
  },
  {
   "cell_type": "code",
   "execution_count": 85,
   "metadata": {},
   "outputs": [
    {
     "name": "stdout",
     "output_type": "stream",
     "text": [
      "Accuracy: 0.85\n",
      "              precision    recall  f1-score   support\n",
      "\n",
      "     Married       0.86      0.92      0.89       124\n",
      "      Single       0.81      0.71      0.76        62\n",
      "\n",
      "    accuracy                           0.85       186\n",
      "   macro avg       0.84      0.81      0.82       186\n",
      "weighted avg       0.85      0.85      0.85       186\n",
      "\n"
     ]
    }
   ],
   "source": [
    "# Make predictions\n",
    "y_pred = model.predict(X_test)\n",
    "\n",
    "# Evaluate the model\n",
    "accuracy = accuracy_score(y_test, y_pred)\n",
    "print(f'Accuracy: {accuracy:.2f}')\n",
    "# Generate classification report for the best model\n",
    "print(classification_report(y_test, y_pred))"
   ]
  },
  {
   "cell_type": "code",
   "execution_count": 86,
   "metadata": {},
   "outputs": [],
   "source": [
    "# import pandas as pd\n",
    "# from catboost import CatBoostClassifier\n",
    "# from sklearn.model_selection import train_test_split, GridSearchCV\n",
    "# from sklearn.metrics import accuracy_score, classification_report\n",
    "\n",
    "# # Split the data into training and testing sets\n",
    "# X_train, X_test, y_train, y_test = train_test_split(X, y, test_size=0.2, random_state=42)\n",
    "\n",
    "# # Initialize CatBoost Classifier\n",
    "# model = CatBoostClassifier()\n",
    "\n",
    "# # Define the hyperparameter grid for tuning\n",
    "# param_grid = {\n",
    "#     'iterations': [100, 200, 300],\n",
    "#     'depth': [4, 6, 8],\n",
    "#     'learning_rate': [0.05, 0.1, 0.2]\n",
    "# }\n",
    "\n",
    "# # Initialize GridSearchCV with CatBoost and the hyperparameter grid\n",
    "# grid_search = GridSearchCV(estimator=model, param_grid=param_grid, cv=3, scoring='accuracy', verbose=2)\n",
    "\n",
    "# # Fit the GridSearchCV to find the best hyperparameters\n",
    "# grid_search.fit(X_train, y_train, cat_features=list(X_train.select_dtypes(include=['object']).columns))\n",
    "\n",
    "# # Get the best hyperparameters\n",
    "# best_params = grid_search.best_params_\n",
    "# print(\"Best Hyperparameters:\", best_params)\n",
    "\n",
    "# # Use the best model from GridSearchCV\n",
    "# best_model = grid_search.best_estimator_\n",
    "\n",
    "# # Make predictions\n",
    "# y_pred = best_model.predict(X_test)\n",
    "\n",
    "# # Evaluate the best model\n",
    "# accuracy = accuracy_score(y_test, y_pred)\n",
    "# print(f'Accuracy: {accuracy:.2f}')\n",
    "\n",
    "# # Generate classification report for the best model\n",
    "# print(classification_report(y_test, y_pred))"
   ]
  },
  {
   "cell_type": "code",
   "execution_count": 87,
   "metadata": {},
   "outputs": [],
   "source": [
    "missing_marital_status = data[data['Marital_Status'].isnull()]\n",
    "X_missing = missing_marital_status.drop('Marital_Status', axis=1)\n",
    "imputed_marital_status = model.predict(X_missing)"
   ]
  },
  {
   "cell_type": "code",
   "execution_count": 88,
   "metadata": {},
   "outputs": [],
   "source": [
    "data.loc[data['Marital_Status'].isnull(), 'Marital_Status'] = imputed_marital_status\n"
   ]
  },
  {
   "cell_type": "code",
   "execution_count": 89,
   "metadata": {},
   "outputs": [
    {
     "data": {
      "text/html": [
       "<div>\n",
       "<style scoped>\n",
       "    .dataframe tbody tr th:only-of-type {\n",
       "        vertical-align: middle;\n",
       "    }\n",
       "\n",
       "    .dataframe tbody tr th {\n",
       "        vertical-align: top;\n",
       "    }\n",
       "\n",
       "    .dataframe thead th {\n",
       "        text-align: right;\n",
       "    }\n",
       "</style>\n",
       "<table border=\"1\" class=\"dataframe\">\n",
       "  <thead>\n",
       "    <tr style=\"text-align: right;\">\n",
       "      <th></th>\n",
       "      <th>Title</th>\n",
       "      <th>Gender</th>\n",
       "      <th>Religion_ID</th>\n",
       "      <th>Marital_Status</th>\n",
       "      <th>Designation_ID</th>\n",
       "      <th>Status</th>\n",
       "      <th>Reporting_emp_1</th>\n",
       "      <th>Reporting_emp_2</th>\n",
       "      <th>Employment_Category</th>\n",
       "      <th>Employment_Type</th>\n",
       "      <th>Religion</th>\n",
       "      <th>Designation</th>\n",
       "      <th>Year_of_Birth</th>\n",
       "    </tr>\n",
       "  </thead>\n",
       "  <tbody>\n",
       "    <tr>\n",
       "      <th>0</th>\n",
       "      <td>Mr</td>\n",
       "      <td>Male</td>\n",
       "      <td>1</td>\n",
       "      <td>Married</td>\n",
       "      <td>24</td>\n",
       "      <td>Active</td>\n",
       "      <td>\\N</td>\n",
       "      <td>\\N</td>\n",
       "      <td>Staff</td>\n",
       "      <td>Permanant</td>\n",
       "      <td>Buddhist</td>\n",
       "      <td>Driver</td>\n",
       "      <td>1965</td>\n",
       "    </tr>\n",
       "    <tr>\n",
       "      <th>1</th>\n",
       "      <td>Mr</td>\n",
       "      <td>Male</td>\n",
       "      <td>1</td>\n",
       "      <td>Married</td>\n",
       "      <td>24</td>\n",
       "      <td>Active</td>\n",
       "      <td>\\N</td>\n",
       "      <td>\\N</td>\n",
       "      <td>Staff</td>\n",
       "      <td>Permanant</td>\n",
       "      <td>Buddhist</td>\n",
       "      <td>Driver</td>\n",
       "      <td>1973</td>\n",
       "    </tr>\n",
       "    <tr>\n",
       "      <th>2</th>\n",
       "      <td>Mr</td>\n",
       "      <td>Male</td>\n",
       "      <td>1</td>\n",
       "      <td>Married</td>\n",
       "      <td>23</td>\n",
       "      <td>Inactive</td>\n",
       "      <td>\\N</td>\n",
       "      <td>\\N</td>\n",
       "      <td>Staff</td>\n",
       "      <td>Permanant</td>\n",
       "      <td>Buddhist</td>\n",
       "      <td>Account Clerk</td>\n",
       "      <td>1974</td>\n",
       "    </tr>\n",
       "    <tr>\n",
       "      <th>3</th>\n",
       "      <td>Ms</td>\n",
       "      <td>Female</td>\n",
       "      <td>4</td>\n",
       "      <td>Married</td>\n",
       "      <td>40</td>\n",
       "      <td>Inactive</td>\n",
       "      <td>\\N</td>\n",
       "      <td>\\N</td>\n",
       "      <td>Staff</td>\n",
       "      <td>Permanant</td>\n",
       "      <td>Catholic</td>\n",
       "      <td>Purchasing Officer</td>\n",
       "      <td>1974</td>\n",
       "    </tr>\n",
       "    <tr>\n",
       "      <th>4</th>\n",
       "      <td>Mr</td>\n",
       "      <td>Male</td>\n",
       "      <td>1</td>\n",
       "      <td>Married</td>\n",
       "      <td>7</td>\n",
       "      <td>Active</td>\n",
       "      <td>\\N</td>\n",
       "      <td>\\N</td>\n",
       "      <td>Staff</td>\n",
       "      <td>Permanant</td>\n",
       "      <td>Buddhist</td>\n",
       "      <td>Store Keeper</td>\n",
       "      <td>1980</td>\n",
       "    </tr>\n",
       "  </tbody>\n",
       "</table>\n",
       "</div>"
      ],
      "text/plain": [
       "  Title  Gender  Religion_ID Marital_Status  Designation_ID    Status  \\\n",
       "0    Mr    Male            1        Married              24    Active   \n",
       "1    Mr    Male            1        Married              24    Active   \n",
       "2    Mr    Male            1        Married              23  Inactive   \n",
       "3    Ms  Female            4        Married              40  Inactive   \n",
       "4    Mr    Male            1        Married               7    Active   \n",
       "\n",
       "  Reporting_emp_1 Reporting_emp_2 Employment_Category Employment_Type  \\\n",
       "0              \\N              \\N               Staff       Permanant   \n",
       "1              \\N              \\N               Staff       Permanant   \n",
       "2              \\N              \\N               Staff       Permanant   \n",
       "3              \\N              \\N               Staff       Permanant   \n",
       "4              \\N              \\N               Staff       Permanant   \n",
       "\n",
       "   Religion         Designation Year_of_Birth  \n",
       "0  Buddhist              Driver          1965  \n",
       "1  Buddhist              Driver          1973  \n",
       "2  Buddhist       Account Clerk          1974  \n",
       "3  Catholic  Purchasing Officer          1974  \n",
       "4  Buddhist        Store Keeper          1980  "
      ]
     },
     "execution_count": 89,
     "metadata": {},
     "output_type": "execute_result"
    }
   ],
   "source": [
    "data.head()"
   ]
  },
  {
   "cell_type": "code",
   "execution_count": 90,
   "metadata": {},
   "outputs": [
    {
     "name": "stdout",
     "output_type": "stream",
     "text": [
      "0      Married\n",
      "1      Married\n",
      "2      Married\n",
      "3      Married\n",
      "4      Married\n",
      "        ...   \n",
      "992     Single\n",
      "993     Single\n",
      "994     Single\n",
      "995     Single\n",
      "996    Married\n",
      "Name: Marital_Status, Length: 997, dtype: object\n"
     ]
    }
   ],
   "source": [
    "# print Marital_Status column\n",
    "print(data['Marital_Status'])"
   ]
  },
  {
   "cell_type": "code",
   "execution_count": 91,
   "metadata": {},
   "outputs": [
    {
     "name": "stdout",
     "output_type": "stream",
     "text": [
      "['Married' 'Single']\n"
     ]
    }
   ],
   "source": [
    "#print Marital_Status unique values\n",
    "print(data['Marital_Status'].unique())"
   ]
  },
  {
   "cell_type": "code",
   "execution_count": 92,
   "metadata": {},
   "outputs": [
    {
     "data": {
      "text/plain": [
       "(997, 13)"
      ]
     },
     "execution_count": 92,
     "metadata": {},
     "output_type": "execute_result"
    }
   ],
   "source": [
    "data.shape"
   ]
  },
  {
   "cell_type": "code",
   "execution_count": 93,
   "metadata": {},
   "outputs": [
    {
     "data": {
      "text/plain": [
       "(997, 13)"
      ]
     },
     "execution_count": 93,
     "metadata": {},
     "output_type": "execute_result"
    }
   ],
   "source": [
    "data_copy.shape"
   ]
  },
  {
   "cell_type": "code",
   "execution_count": 96,
   "metadata": {},
   "outputs": [],
   "source": [
    "# write data to csv file\n",
    "data.to_csv('../Dataset/pre_processed/employees_Marital_Status_imputed.csv', index=False)\n"
   ]
  },
  {
   "cell_type": "code",
   "execution_count": null,
   "metadata": {},
   "outputs": [],
   "source": []
  }
 ],
 "metadata": {
  "kernelspec": {
   "display_name": "Python 3",
   "language": "python",
   "name": "python3"
  },
  "language_info": {
   "codemirror_mode": {
    "name": "ipython",
    "version": 3
   },
   "file_extension": ".py",
   "mimetype": "text/x-python",
   "name": "python",
   "nbconvert_exporter": "python",
   "pygments_lexer": "ipython3",
   "version": "3.12.2"
  }
 },
 "nbformat": 4,
 "nbformat_minor": 2
}
