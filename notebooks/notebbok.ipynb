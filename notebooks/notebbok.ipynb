{
 "cells": [
  {
   "cell_type": "code",
   "execution_count": 1,
   "metadata": {},
   "outputs": [],
   "source": [
    "import pandas as pd\n",
    "import numpy as np\n",
    "from matplotlib import pyplot as plt\n",
    "import seaborn as sns"
   ]
  },
  {
   "cell_type": "code",
   "execution_count": 2,
   "metadata": {},
   "outputs": [],
   "source": [
    "marvellous = pd.read_csv('../dataset/employees.csv')"
   ]
  },
  {
   "cell_type": "code",
   "execution_count": 3,
   "metadata": {},
   "outputs": [
    {
     "data": {
      "text/html": [
       "<div>\n",
       "<style scoped>\n",
       "    .dataframe tbody tr th:only-of-type {\n",
       "        vertical-align: middle;\n",
       "    }\n",
       "\n",
       "    .dataframe tbody tr th {\n",
       "        vertical-align: top;\n",
       "    }\n",
       "\n",
       "    .dataframe thead th {\n",
       "        text-align: right;\n",
       "    }\n",
       "</style>\n",
       "<table border=\"1\" class=\"dataframe\">\n",
       "  <thead>\n",
       "    <tr style=\"text-align: right;\">\n",
       "      <th></th>\n",
       "      <th>Employee_No</th>\n",
       "      <th>Employee_Code</th>\n",
       "      <th>Name</th>\n",
       "      <th>Title</th>\n",
       "      <th>Gender</th>\n",
       "      <th>Religion_ID</th>\n",
       "      <th>Marital_Status</th>\n",
       "      <th>Designation_ID</th>\n",
       "      <th>Date_Joined</th>\n",
       "      <th>Date_Resigned</th>\n",
       "      <th>Status</th>\n",
       "      <th>Inactive_Date</th>\n",
       "      <th>Reporting_emp_1</th>\n",
       "      <th>Reporting_emp_2</th>\n",
       "      <th>Employment_Category</th>\n",
       "      <th>Employment_Type</th>\n",
       "      <th>Religion</th>\n",
       "      <th>Designation</th>\n",
       "      <th>Year_of_Birth</th>\n",
       "    </tr>\n",
       "  </thead>\n",
       "  <tbody>\n",
       "    <tr>\n",
       "      <th>0</th>\n",
       "      <td>347</td>\n",
       "      <td>6</td>\n",
       "      <td>Myrl Bechtelar MD</td>\n",
       "      <td>Mr</td>\n",
       "      <td>Male</td>\n",
       "      <td>1</td>\n",
       "      <td>Married</td>\n",
       "      <td>24</td>\n",
       "      <td>12/8/1993</td>\n",
       "      <td>\\N</td>\n",
       "      <td>Active</td>\n",
       "      <td>\\N</td>\n",
       "      <td>\\N</td>\n",
       "      <td>\\N</td>\n",
       "      <td>Staff</td>\n",
       "      <td>Permanant</td>\n",
       "      <td>Buddhist</td>\n",
       "      <td>Driver</td>\n",
       "      <td>1965</td>\n",
       "    </tr>\n",
       "    <tr>\n",
       "      <th>1</th>\n",
       "      <td>348</td>\n",
       "      <td>33</td>\n",
       "      <td>Francis Mraz</td>\n",
       "      <td>Mr</td>\n",
       "      <td>Male</td>\n",
       "      <td>1</td>\n",
       "      <td>Married</td>\n",
       "      <td>24</td>\n",
       "      <td>3/14/1995</td>\n",
       "      <td>\\N</td>\n",
       "      <td>Active</td>\n",
       "      <td>\\N</td>\n",
       "      <td>\\N</td>\n",
       "      <td>\\N</td>\n",
       "      <td>Staff</td>\n",
       "      <td>Permanant</td>\n",
       "      <td>Buddhist</td>\n",
       "      <td>Driver</td>\n",
       "      <td>1973</td>\n",
       "    </tr>\n",
       "    <tr>\n",
       "      <th>2</th>\n",
       "      <td>349</td>\n",
       "      <td>53</td>\n",
       "      <td>Mr Emmet Blick Jr</td>\n",
       "      <td>Mr</td>\n",
       "      <td>Male</td>\n",
       "      <td>1</td>\n",
       "      <td>Married</td>\n",
       "      <td>23</td>\n",
       "      <td>1/27/1988</td>\n",
       "      <td>6/28/2021</td>\n",
       "      <td>Inactive</td>\n",
       "      <td>6/28/2021</td>\n",
       "      <td>\\N</td>\n",
       "      <td>\\N</td>\n",
       "      <td>Staff</td>\n",
       "      <td>Permanant</td>\n",
       "      <td>Buddhist</td>\n",
       "      <td>Account Clerk</td>\n",
       "      <td>1974</td>\n",
       "    </tr>\n",
       "    <tr>\n",
       "      <th>3</th>\n",
       "      <td>351</td>\n",
       "      <td>77</td>\n",
       "      <td>Mr Nelson Braun PhD</td>\n",
       "      <td>Ms</td>\n",
       "      <td>Female</td>\n",
       "      <td>4</td>\n",
       "      <td>Married</td>\n",
       "      <td>40</td>\n",
       "      <td>10/1/1999</td>\n",
       "      <td>1/31/2022</td>\n",
       "      <td>Inactive</td>\n",
       "      <td>1/31/2022</td>\n",
       "      <td>\\N</td>\n",
       "      <td>\\N</td>\n",
       "      <td>Staff</td>\n",
       "      <td>Permanant</td>\n",
       "      <td>Catholic</td>\n",
       "      <td>Purchasing Officer</td>\n",
       "      <td>1974</td>\n",
       "    </tr>\n",
       "    <tr>\n",
       "      <th>4</th>\n",
       "      <td>352</td>\n",
       "      <td>88</td>\n",
       "      <td>Maximillian Hand</td>\n",
       "      <td>Mr</td>\n",
       "      <td>Male</td>\n",
       "      <td>1</td>\n",
       "      <td>Married</td>\n",
       "      <td>7</td>\n",
       "      <td>1/26/2001</td>\n",
       "      <td>\\N</td>\n",
       "      <td>Active</td>\n",
       "      <td>\\N</td>\n",
       "      <td>\\N</td>\n",
       "      <td>\\N</td>\n",
       "      <td>Staff</td>\n",
       "      <td>Permanant</td>\n",
       "      <td>Buddhist</td>\n",
       "      <td>Store Keeper</td>\n",
       "      <td>1980</td>\n",
       "    </tr>\n",
       "  </tbody>\n",
       "</table>\n",
       "</div>"
      ],
      "text/plain": [
       "   Employee_No  Employee_Code                 Name Title  Gender  Religion_ID  \\\n",
       "0          347              6    Myrl Bechtelar MD    Mr    Male            1   \n",
       "1          348             33         Francis Mraz    Mr    Male            1   \n",
       "2          349             53    Mr Emmet Blick Jr    Mr    Male            1   \n",
       "3          351             77  Mr Nelson Braun PhD    Ms  Female            4   \n",
       "4          352             88     Maximillian Hand    Mr    Male            1   \n",
       "\n",
       "  Marital_Status  Designation_ID Date_Joined Date_Resigned    Status  \\\n",
       "0        Married              24   12/8/1993            \\N    Active   \n",
       "1        Married              24   3/14/1995            \\N    Active   \n",
       "2        Married              23   1/27/1988     6/28/2021  Inactive   \n",
       "3        Married              40   10/1/1999     1/31/2022  Inactive   \n",
       "4        Married               7   1/26/2001            \\N    Active   \n",
       "\n",
       "  Inactive_Date Reporting_emp_1 Reporting_emp_2 Employment_Category  \\\n",
       "0            \\N              \\N              \\N               Staff   \n",
       "1            \\N              \\N              \\N               Staff   \n",
       "2     6/28/2021              \\N              \\N               Staff   \n",
       "3     1/31/2022              \\N              \\N               Staff   \n",
       "4            \\N              \\N              \\N               Staff   \n",
       "\n",
       "  Employment_Type  Religion         Designation Year_of_Birth  \n",
       "0       Permanant  Buddhist              Driver          1965  \n",
       "1       Permanant  Buddhist              Driver          1973  \n",
       "2       Permanant  Buddhist       Account Clerk          1974  \n",
       "3       Permanant  Catholic  Purchasing Officer          1974  \n",
       "4       Permanant  Buddhist        Store Keeper          1980  "
      ]
     },
     "execution_count": 3,
     "metadata": {},
     "output_type": "execute_result"
    }
   ],
   "source": [
    "marvellous.head()"
   ]
  },
  {
   "cell_type": "code",
   "execution_count": 4,
   "metadata": {},
   "outputs": [
    {
     "name": "stdout",
     "output_type": "stream",
     "text": [
      "<class 'pandas.core.frame.DataFrame'>\n",
      "RangeIndex: 997 entries, 0 to 996\n",
      "Data columns (total 19 columns):\n",
      " #   Column               Non-Null Count  Dtype \n",
      "---  ------               --------------  ----- \n",
      " 0   Employee_No          997 non-null    int64 \n",
      " 1   Employee_Code        997 non-null    int64 \n",
      " 2   Name                 997 non-null    object\n",
      " 3   Title                997 non-null    object\n",
      " 4   Gender               997 non-null    object\n",
      " 5   Religion_ID          997 non-null    int64 \n",
      " 6   Marital_Status       930 non-null    object\n",
      " 7   Designation_ID       997 non-null    int64 \n",
      " 8   Date_Joined          997 non-null    object\n",
      " 9   Date_Resigned        997 non-null    object\n",
      " 10  Status               997 non-null    object\n",
      " 11  Inactive_Date        997 non-null    object\n",
      " 12  Reporting_emp_1      997 non-null    object\n",
      " 13  Reporting_emp_2      997 non-null    object\n",
      " 14  Employment_Category  997 non-null    object\n",
      " 15  Employment_Type      997 non-null    object\n",
      " 16  Religion             997 non-null    object\n",
      " 17  Designation          997 non-null    object\n",
      " 18  Year_of_Birth        997 non-null    object\n",
      "dtypes: int64(4), object(15)\n",
      "memory usage: 148.1+ KB\n"
     ]
    }
   ],
   "source": [
    "marvellous.info()"
   ]
  },
  {
   "cell_type": "code",
   "execution_count": 5,
   "metadata": {},
   "outputs": [
    {
     "data": {
      "text/plain": [
       "Employee_No             0\n",
       "Employee_Code           0\n",
       "Name                    0\n",
       "Title                   0\n",
       "Gender                  0\n",
       "Religion_ID             0\n",
       "Marital_Status         67\n",
       "Designation_ID          0\n",
       "Date_Joined             0\n",
       "Date_Resigned           0\n",
       "Status                  0\n",
       "Inactive_Date           0\n",
       "Reporting_emp_1         0\n",
       "Reporting_emp_2         0\n",
       "Employment_Category     0\n",
       "Employment_Type         0\n",
       "Religion                0\n",
       "Designation             0\n",
       "Year_of_Birth           0\n",
       "dtype: int64"
      ]
     },
     "execution_count": 5,
     "metadata": {},
     "output_type": "execute_result"
    }
   ],
   "source": [
    "marvellous.isnull().sum()"
   ]
  },
  {
   "cell_type": "code",
   "execution_count": 6,
   "metadata": {},
   "outputs": [],
   "source": [
    "numerical_columns = marvellous.select_dtypes(include=[np.number]).columns.tolist()\n",
    "categorical_columns = marvellous.select_dtypes(exclude=[np.number]).columns.tolist()"
   ]
  },
  {
   "cell_type": "code",
   "execution_count": 10,
   "metadata": {},
   "outputs": [
    {
     "data": {
      "text/plain": [
       "Index(['Employee_No', 'Employee_Code', 'Name', 'Title', 'Gender',\n",
       "       'Religion_ID', 'Marital_Status', 'Designation_ID', 'Date_Joined',\n",
       "       'Date_Resigned', 'Status', 'Inactive_Date', 'Reporting_emp_1',\n",
       "       'Reporting_emp_2', 'Employment_Category', 'Employment_Type', 'Religion',\n",
       "       'Designation', 'Year_of_Birth'],\n",
       "      dtype='object')"
      ]
     },
     "execution_count": 10,
     "metadata": {},
     "output_type": "execute_result"
    }
   ],
   "source": [
    "marvellous.columns"
   ]
  },
  {
   "cell_type": "code",
   "execution_count": 12,
   "metadata": {},
   "outputs": [
    {
     "ename": "KeyError",
     "evalue": "('Year_of_Birth', 'Date_Joined')",
     "output_type": "error",
     "traceback": [
      "\u001b[0;31m---------------------------------------------------------------------------\u001b[0m",
      "\u001b[0;31mKeyError\u001b[0m                                  Traceback (most recent call last)",
      "File \u001b[0;32m~/.python/current/lib/python3.10/site-packages/pandas/core/indexes/base.py:3802\u001b[0m, in \u001b[0;36mIndex.get_loc\u001b[0;34m(self, key, method, tolerance)\u001b[0m\n\u001b[1;32m   3801\u001b[0m \u001b[38;5;28;01mtry\u001b[39;00m:\n\u001b[0;32m-> 3802\u001b[0m     \u001b[38;5;28;01mreturn\u001b[39;00m \u001b[38;5;28;43mself\u001b[39;49m\u001b[38;5;241;43m.\u001b[39;49m\u001b[43m_engine\u001b[49m\u001b[38;5;241;43m.\u001b[39;49m\u001b[43mget_loc\u001b[49m\u001b[43m(\u001b[49m\u001b[43mcasted_key\u001b[49m\u001b[43m)\u001b[49m\n\u001b[1;32m   3803\u001b[0m \u001b[38;5;28;01mexcept\u001b[39;00m \u001b[38;5;167;01mKeyError\u001b[39;00m \u001b[38;5;28;01mas\u001b[39;00m err:\n",
      "File \u001b[0;32m~/.python/current/lib/python3.10/site-packages/pandas/_libs/index.pyx:138\u001b[0m, in \u001b[0;36mpandas._libs.index.IndexEngine.get_loc\u001b[0;34m()\u001b[0m\n",
      "File \u001b[0;32m~/.python/current/lib/python3.10/site-packages/pandas/_libs/index.pyx:165\u001b[0m, in \u001b[0;36mpandas._libs.index.IndexEngine.get_loc\u001b[0;34m()\u001b[0m\n",
      "File \u001b[0;32mpandas/_libs/hashtable_class_helper.pxi:5745\u001b[0m, in \u001b[0;36mpandas._libs.hashtable.PyObjectHashTable.get_item\u001b[0;34m()\u001b[0m\n",
      "File \u001b[0;32mpandas/_libs/hashtable_class_helper.pxi:5753\u001b[0m, in \u001b[0;36mpandas._libs.hashtable.PyObjectHashTable.get_item\u001b[0;34m()\u001b[0m\n",
      "\u001b[0;31mKeyError\u001b[0m: ('Year_of_Birth', 'Date_Joined')",
      "\nThe above exception was the direct cause of the following exception:\n",
      "\u001b[0;31mKeyError\u001b[0m                                  Traceback (most recent call last)",
      "Cell \u001b[0;32mIn[12], line 3\u001b[0m\n\u001b[1;32m      1\u001b[0m \u001b[38;5;66;03m# marvellous['Date_Joined'] = pd.to_datetime(marvellous['Date_Joined'])\u001b[39;00m\n\u001b[1;32m      2\u001b[0m marvellous[\u001b[38;5;124m'\u001b[39m\u001b[38;5;124mYear_of_Birth\u001b[39m\u001b[38;5;124m'\u001b[39m] \u001b[38;5;241m=\u001b[39m pd\u001b[38;5;241m.\u001b[39mto_numeric(marvellous[\u001b[38;5;124m'\u001b[39m\u001b[38;5;124mYear_of_Birth\u001b[39m\u001b[38;5;124m'\u001b[39m], errors\u001b[38;5;241m=\u001b[39m\u001b[38;5;124m'\u001b[39m\u001b[38;5;124mcoerce\u001b[39m\u001b[38;5;124m'\u001b[39m)\n\u001b[0;32m----> 3\u001b[0m \u001b[43mmarvellous\u001b[49m\u001b[43m[\u001b[49m\u001b[38;5;124;43m'\u001b[39;49m\u001b[38;5;124;43mYear_of_Birth\u001b[39;49m\u001b[38;5;124;43m'\u001b[39;49m\u001b[43m,\u001b[49m\u001b[38;5;124;43m'\u001b[39;49m\u001b[38;5;124;43mDate_Joined\u001b[39;49m\u001b[38;5;124;43m'\u001b[39;49m\u001b[43m]\u001b[49m\u001b[38;5;241m.\u001b[39mhead()\n",
      "File \u001b[0;32m~/.python/current/lib/python3.10/site-packages/pandas/core/frame.py:3807\u001b[0m, in \u001b[0;36mDataFrame.__getitem__\u001b[0;34m(self, key)\u001b[0m\n\u001b[1;32m   3805\u001b[0m \u001b[38;5;28;01mif\u001b[39;00m \u001b[38;5;28mself\u001b[39m\u001b[38;5;241m.\u001b[39mcolumns\u001b[38;5;241m.\u001b[39mnlevels \u001b[38;5;241m>\u001b[39m \u001b[38;5;241m1\u001b[39m:\n\u001b[1;32m   3806\u001b[0m     \u001b[38;5;28;01mreturn\u001b[39;00m \u001b[38;5;28mself\u001b[39m\u001b[38;5;241m.\u001b[39m_getitem_multilevel(key)\n\u001b[0;32m-> 3807\u001b[0m indexer \u001b[38;5;241m=\u001b[39m \u001b[38;5;28;43mself\u001b[39;49m\u001b[38;5;241;43m.\u001b[39;49m\u001b[43mcolumns\u001b[49m\u001b[38;5;241;43m.\u001b[39;49m\u001b[43mget_loc\u001b[49m\u001b[43m(\u001b[49m\u001b[43mkey\u001b[49m\u001b[43m)\u001b[49m\n\u001b[1;32m   3808\u001b[0m \u001b[38;5;28;01mif\u001b[39;00m is_integer(indexer):\n\u001b[1;32m   3809\u001b[0m     indexer \u001b[38;5;241m=\u001b[39m [indexer]\n",
      "File \u001b[0;32m~/.python/current/lib/python3.10/site-packages/pandas/core/indexes/base.py:3804\u001b[0m, in \u001b[0;36mIndex.get_loc\u001b[0;34m(self, key, method, tolerance)\u001b[0m\n\u001b[1;32m   3802\u001b[0m     \u001b[38;5;28;01mreturn\u001b[39;00m \u001b[38;5;28mself\u001b[39m\u001b[38;5;241m.\u001b[39m_engine\u001b[38;5;241m.\u001b[39mget_loc(casted_key)\n\u001b[1;32m   3803\u001b[0m \u001b[38;5;28;01mexcept\u001b[39;00m \u001b[38;5;167;01mKeyError\u001b[39;00m \u001b[38;5;28;01mas\u001b[39;00m err:\n\u001b[0;32m-> 3804\u001b[0m     \u001b[38;5;28;01mraise\u001b[39;00m \u001b[38;5;167;01mKeyError\u001b[39;00m(key) \u001b[38;5;28;01mfrom\u001b[39;00m \u001b[38;5;21;01merr\u001b[39;00m\n\u001b[1;32m   3805\u001b[0m \u001b[38;5;28;01mexcept\u001b[39;00m \u001b[38;5;167;01mTypeError\u001b[39;00m:\n\u001b[1;32m   3806\u001b[0m     \u001b[38;5;66;03m# If we have a listlike key, _check_indexing_error will raise\u001b[39;00m\n\u001b[1;32m   3807\u001b[0m     \u001b[38;5;66;03m#  InvalidIndexError. Otherwise we fall through and re-raise\u001b[39;00m\n\u001b[1;32m   3808\u001b[0m     \u001b[38;5;66;03m#  the TypeError.\u001b[39;00m\n\u001b[1;32m   3809\u001b[0m     \u001b[38;5;28mself\u001b[39m\u001b[38;5;241m.\u001b[39m_check_indexing_error(key)\n",
      "\u001b[0;31mKeyError\u001b[0m: ('Year_of_Birth', 'Date_Joined')"
     ]
    }
   ],
   "source": [
    "# marvellous['Date_Joined'] = pd.to_datetime(marvellous['Date_Joined'])\n",
    "marvellous['Year_of_Birth'] = pd.to_numeric(marvellous['Year_of_Birth'], errors='coerce')\n",
    "marvellous['Year_of_Birth','Date_Joined'].head()\n"
   ]
  },
  {
   "cell_type": "code",
   "execution_count": null,
   "metadata": {},
   "outputs": [],
   "source": []
  }
 ],
 "metadata": {
  "kernelspec": {
   "display_name": "Python 3",
   "language": "python",
   "name": "python3"
  },
  "language_info": {
   "codemirror_mode": {
    "name": "ipython",
    "version": 3
   },
   "file_extension": ".py",
   "mimetype": "text/x-python",
   "name": "python",
   "nbconvert_exporter": "python",
   "pygments_lexer": "ipython3",
   "version": "3.10.13"
  }
 },
 "nbformat": 4,
 "nbformat_minor": 2
}
